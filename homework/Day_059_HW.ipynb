{
 "cells": [
  {
   "cell_type": "markdown",
   "metadata": {},
   "source": [
    "# 作業\n",
    "### 用 digits (3個數字即可 , dataset.load_digits(n_class=3)) 資料嘗試跑 PCA\n"
   ]
  },
  {
   "cell_type": "code",
   "execution_count": 1,
   "metadata": {},
   "outputs": [],
   "source": [
    "from sklearn import datasets\n",
    "\n",
    "digits = datasets.load_digits(n_class=3)\n",
    "X = digits.data\n",
    "y = digits.target"
   ]
  },
  {
   "cell_type": "code",
   "execution_count": 2,
   "metadata": {},
   "outputs": [
    {
     "data": {
      "text/plain": [
       "array([ 0.,  0.,  6., 16., 13., 11.,  1.,  0.,  0.,  0., 16., 15., 12.,\n",
       "       16.,  1.,  0.,  0.,  3., 16.,  7.,  0., 13.,  6.,  0.,  0.,  4.,\n",
       "       16.,  0.,  0., 10.,  8.,  0.,  0.,  8., 16.,  0.,  0., 14.,  6.,\n",
       "        0.,  0.,  5., 16.,  7.,  9., 16.,  5.,  0.,  0.,  1., 15., 16.,\n",
       "       16., 16.,  1.,  0.,  0.,  0.,  6., 16., 14.,  6.,  0.,  0.])"
      ]
     },
     "execution_count": 2,
     "metadata": {},
     "output_type": "execute_result"
    }
   ],
   "source": [
    "X[536]"
   ]
  },
  {
   "cell_type": "markdown",
   "metadata": {},
   "source": [
    "載入 相關套件 並 執行 PCA 實驗 ..."
   ]
  },
  {
   "cell_type": "code",
   "execution_count": 3,
   "metadata": {},
   "outputs": [
    {
     "name": "stdout",
     "output_type": "stream",
     "text": [
      "537\n",
      "64\n",
      "32.0\n",
      "[0 1 2 0 1 2 0 1 2 0 0 1 1 0 0 2 2 2 0 1 2 1 0 2 2 0 0 1 2 1 1 1 1 0 1 2 2\n",
      " 2 0 0 1 2 0 1 2 0 1 2 0 0 1 1 0 0 2 2 2 0 1 2 1 0 2 2 0 0 1 2 1 1 1 1 0 1\n",
      " 2 2 2 0 0 1 2 0 1 2 0 1 2 0 0 1 1 0 0 2 2 2 0 1 2 1 0 2 2 0 0 1 2 1 1 1 1\n",
      " 0 1 2 2 2 0 0 1 2 0 1 2 0 1 2 0 0 1 1 0 0 2 2 2 0 1 2 1 0 2 2 0 0 1 2 1 1\n",
      " 1 1 0 1 2 2 2 0 0 1 2 0 1 2 0 1 2 0 0 1 1 0 0 2 2 2 0 1 2 1 0 2 2 0 0 1 2\n",
      " 1 1 1 1 0 1 2 2 2 0 0 1 2 0 1 2 0 1 2 0 0 1 1 0 0 2 2 2 0 1 2 1 0 2 2 0 0\n",
      " 1 2 1 1 1 1 0 1 2 2 2 0 0 1 2 0 1 2 0 1 2 0 0 1 1 0 0 2 2 2 0 1 2 1 0 2 2\n",
      " 0 0 1 2 1 1 1 1 0 1 2 2 2 0 1 2 0 1 2 0 1 2 0 0 1 1 2 2 0 1 2 1 0 2 2 0 0\n",
      " 1 2 1 1 1 1 0 1 2 2 2 0 0 1 2 0 1 2 0 1 2 0 0 1 1 0 0 2 0 1 2 1 0 2 2 0 0\n",
      " 1 2 1 1 1 1 0 1 2 2 2 0 0 1 2 0 1 2 0 1 2 0 0 1 1 0 0 2 2 2 0 1 2 1 0 2 2\n",
      " 0 0 1 2 1 1 1 1 0 1 2 2 2 0 0 1 2 0 1 2 0 1 2 0 0 1 1 0 0 2 2 2 0 1 2 1 0\n",
      " 2 2 0 0 1 2 1 1 1 1 0 1 2 2 2 0 0 1 2 0 1 2 0 1 2 0 0 1 1 0 0 2 2 2 0 1 2\n",
      " 1 0 2 2 0 0 1 2 1 1 1 1 0 1 2 2 2 0 0 1 2 0 1 2 0 1 2 0 0 1 1 0 0 2 2 2 0\n",
      " 1 2 1 0 2 0 1 2 1 1 1 1 0 1 2 2 0 0 1 2 0 1 2 0 1 2 0 0 1 1 0 0 2 2 2 0 1\n",
      " 2 1 0 2 2 0 0 1 2 1 1 1 1 0 1 2 2 2 0]\n"
     ]
    }
   ],
   "source": [
    "print(len(X))     #537筆資料\n",
    "print(len(X[1]))  #64個attributes\n",
    "print(X.shape[1] / 2)\n",
    "print(y)"
   ]
  },
  {
   "cell_type": "code",
   "execution_count": 4,
   "metadata": {},
   "outputs": [],
   "source": [
    "import numpy as np\n",
    "import matplotlib.pyplot as plt\n",
    "from mpl_toolkits.mplot3d import Axes3D\n",
    "\n",
    "\n",
    "from sklearn import decomposition\n",
    "from sklearn import datasets\n",
    "from sklearn.cluster import KMeans\n",
    "from sklearn.metrics import accuracy_score\n",
    "\n",
    "np.random.seed(5)\n",
    "%matplotlib inline"
   ]
  },
  {
   "cell_type": "code",
   "execution_count": 5,
   "metadata": {},
   "outputs": [
    {
     "data": {
      "text/plain": [
       "array([0, 1, 1, 0, 1, 2, 0, 1, 2, 0, 0, 1, 1, 0, 0, 1, 1, 1, 0, 1, 1, 1,\n",
       "       0, 1, 1, 0, 0, 1, 2, 1, 1, 1, 1, 0, 1, 2, 1, 2, 0, 0, 1, 2, 0, 1,\n",
       "       2, 0, 1, 2, 0, 0, 1, 1, 0, 0, 2, 2, 2, 0, 1, 2, 1, 0, 2, 2, 0, 0,\n",
       "       1, 2, 1, 1, 1, 1, 0, 1, 2, 2, 2, 0, 0, 1, 2, 0, 1, 2, 0, 1, 2, 0,\n",
       "       0, 1, 1, 0, 0, 2, 2, 2, 0, 1, 2, 1, 0, 2, 2, 0, 0, 1, 2, 1, 1, 1,\n",
       "       1, 0, 1, 2, 2, 2, 0, 0, 1, 2, 0, 1, 2, 0, 1, 2, 0, 0, 1, 1, 0, 0,\n",
       "       2, 2, 2, 0, 2, 2, 1, 0, 2, 2, 0, 0, 1, 2, 1, 1, 1, 1, 0, 1, 2, 2,\n",
       "       1, 0, 0, 2, 2, 0, 2, 2, 0, 2, 2, 0, 0, 2, 2, 0, 0, 2, 2, 2, 0, 2,\n",
       "       2, 2, 0, 2, 2, 0, 0, 2, 2, 2, 2, 2, 1, 0, 1, 2, 2, 2, 0, 0, 1, 2,\n",
       "       0, 1, 2, 0, 1, 2, 0, 0, 1, 1, 0, 0, 2, 2, 2, 0, 1, 2, 1, 0, 2, 2,\n",
       "       0, 0, 1, 2, 1, 1, 1, 1, 0, 1, 2, 2, 2, 0, 0, 1, 2, 0, 1, 2, 0, 1,\n",
       "       2, 0, 0, 1, 1, 0, 0, 2, 2, 2, 0, 2, 2, 1, 0, 2, 2, 0, 0, 2, 2, 1,\n",
       "       1, 1, 1, 0, 1, 2, 1, 2, 0, 2, 2, 0, 2, 2, 0, 2, 2, 0, 0, 2, 2, 2,\n",
       "       2, 0, 2, 2, 2, 0, 2, 2, 0, 0, 2, 2, 2, 2, 2, 2, 0, 2, 2, 2, 2, 0,\n",
       "       0, 1, 2, 0, 1, 2, 0, 1, 2, 0, 0, 1, 1, 0, 0, 2, 0, 1, 2, 1, 0, 2,\n",
       "       2, 0, 0, 1, 2, 1, 1, 1, 1, 0, 1, 2, 2, 2, 0, 0, 1, 2, 0, 1, 2, 0,\n",
       "       1, 2, 0, 0, 1, 1, 0, 0, 2, 2, 2, 0, 1, 2, 1, 0, 2, 2, 0, 0, 1, 2,\n",
       "       1, 1, 1, 1, 0, 1, 2, 2, 2, 0, 0, 1, 2, 0, 1, 2, 0, 1, 2, 0, 0, 1,\n",
       "       1, 0, 0, 2, 0, 2, 0, 1, 2, 1, 0, 2, 0, 0, 0, 1, 2, 1, 1, 1, 1, 0,\n",
       "       1, 2, 2, 2, 0, 0, 1, 2, 0, 1, 2, 0, 1, 2, 0, 0, 1, 1, 0, 0, 2, 2,\n",
       "       2, 0, 1, 2, 1, 0, 2, 2, 0, 0, 0, 2, 1, 1, 1, 0, 0, 1, 2, 2, 2, 0,\n",
       "       0, 1, 2, 0, 1, 2, 0, 1, 2, 0, 0, 1, 1, 0, 0, 0, 2, 2, 0, 1, 2, 1,\n",
       "       0, 2, 0, 1, 2, 1, 1, 1, 1, 0, 1, 2, 2, 0, 0, 1, 2, 0, 1, 2, 0, 1,\n",
       "       2, 0, 0, 1, 1, 0, 0, 2, 2, 2, 0, 1, 2, 1, 0, 2, 2, 0, 0, 1, 2, 1,\n",
       "       1, 1, 1, 0, 1, 2, 2, 2, 0], dtype=int32)"
      ]
     },
     "execution_count": 5,
     "metadata": {},
     "output_type": "execute_result"
    }
   ],
   "source": [
    "n_clusters = 3\n",
    "clusterer = KMeans(n_clusters=n_clusters, random_state=10)\n",
    "cluster_labels = clusterer.fit_predict(X)\n",
    "cluster_labels"
   ]
  },
  {
   "cell_type": "code",
   "execution_count": 6,
   "metadata": {},
   "outputs": [
    {
     "name": "stdout",
     "output_type": "stream",
     "text": [
      "原本的準確率 0.9217877094972067\n"
     ]
    }
   ],
   "source": [
    "accuracy_score(y, cluster_labels)\n",
    "print('原本的準確率',accuracy_score(y, cluster_labels))"
   ]
  },
  {
   "cell_type": "code",
   "execution_count": 7,
   "metadata": {},
   "outputs": [],
   "source": [
    "#嘗試降到一半\n",
    "pca = decomposition.PCA(n_components=int(X.shape[1] / 2) )"
   ]
  },
  {
   "cell_type": "code",
   "execution_count": 8,
   "metadata": {},
   "outputs": [
    {
     "data": {
      "text/plain": [
       "32"
      ]
     },
     "execution_count": 8,
     "metadata": {},
     "output_type": "execute_result"
    }
   ],
   "source": [
    "pca.fit(X)\n",
    "X_pca = pca.transform(X)\n",
    "\n",
    "len(X_pca[1])"
   ]
  },
  {
   "cell_type": "code",
   "execution_count": 9,
   "metadata": {},
   "outputs": [
    {
     "data": {
      "text/plain": [
       "array([0, 1, 1, 0, 1, 2, 0, 1, 2, 0, 0, 1, 1, 0, 0, 1, 1, 1, 0, 1, 1, 1,\n",
       "       0, 1, 1, 0, 0, 1, 2, 1, 1, 1, 1, 0, 1, 2, 1, 2, 0, 0, 1, 2, 0, 1,\n",
       "       2, 0, 1, 2, 0, 0, 1, 1, 0, 0, 2, 2, 2, 0, 1, 2, 1, 0, 2, 2, 0, 0,\n",
       "       1, 2, 1, 1, 1, 1, 0, 1, 2, 2, 2, 0, 0, 1, 2, 0, 1, 2, 0, 1, 2, 0,\n",
       "       0, 1, 1, 0, 0, 2, 2, 2, 0, 1, 2, 1, 0, 2, 2, 0, 0, 1, 2, 1, 1, 1,\n",
       "       1, 0, 1, 2, 2, 2, 0, 0, 1, 2, 0, 1, 2, 0, 1, 2, 0, 0, 1, 1, 0, 0,\n",
       "       2, 2, 2, 0, 2, 2, 1, 0, 2, 2, 0, 0, 1, 2, 1, 1, 1, 1, 0, 1, 2, 2,\n",
       "       1, 0, 0, 2, 2, 0, 2, 2, 0, 2, 2, 0, 0, 2, 2, 0, 0, 2, 2, 2, 0, 2,\n",
       "       2, 2, 0, 2, 2, 0, 0, 2, 2, 2, 2, 2, 1, 0, 1, 2, 2, 2, 0, 0, 1, 2,\n",
       "       0, 1, 2, 0, 1, 2, 0, 0, 1, 1, 0, 0, 2, 2, 2, 0, 1, 2, 1, 0, 2, 2,\n",
       "       0, 0, 1, 2, 1, 1, 1, 1, 0, 1, 2, 2, 2, 0, 0, 1, 2, 0, 1, 2, 0, 1,\n",
       "       2, 0, 0, 1, 1, 0, 0, 2, 2, 2, 0, 2, 2, 1, 0, 2, 2, 0, 0, 2, 2, 1,\n",
       "       1, 1, 1, 0, 1, 2, 1, 2, 0, 2, 2, 0, 2, 2, 0, 2, 2, 0, 0, 2, 2, 2,\n",
       "       2, 0, 2, 2, 2, 0, 2, 2, 0, 0, 2, 2, 2, 2, 2, 2, 0, 2, 2, 2, 2, 0,\n",
       "       0, 1, 2, 0, 1, 2, 0, 1, 2, 0, 0, 1, 1, 0, 0, 2, 0, 1, 2, 1, 0, 2,\n",
       "       2, 0, 0, 1, 2, 1, 1, 1, 1, 0, 1, 2, 2, 2, 0, 0, 1, 2, 0, 1, 2, 0,\n",
       "       1, 2, 0, 0, 1, 1, 0, 0, 2, 2, 2, 0, 1, 2, 1, 0, 2, 2, 0, 0, 1, 2,\n",
       "       1, 1, 1, 1, 0, 1, 2, 2, 2, 0, 0, 1, 2, 0, 1, 2, 0, 1, 2, 0, 0, 1,\n",
       "       1, 0, 0, 2, 0, 2, 0, 1, 2, 1, 0, 2, 0, 0, 0, 1, 2, 1, 1, 1, 1, 0,\n",
       "       1, 2, 2, 2, 0, 0, 1, 2, 0, 1, 2, 0, 1, 2, 0, 0, 1, 1, 0, 0, 2, 2,\n",
       "       2, 0, 1, 2, 1, 0, 2, 2, 0, 0, 0, 2, 1, 1, 1, 0, 0, 1, 2, 2, 2, 0,\n",
       "       0, 1, 2, 0, 1, 2, 0, 1, 2, 0, 0, 1, 1, 0, 0, 0, 2, 2, 0, 1, 2, 1,\n",
       "       0, 2, 0, 1, 2, 1, 1, 1, 1, 0, 1, 2, 2, 0, 0, 1, 2, 0, 1, 2, 0, 1,\n",
       "       2, 0, 0, 1, 1, 0, 0, 2, 2, 2, 0, 1, 2, 1, 0, 2, 2, 0, 0, 1, 2, 1,\n",
       "       1, 1, 1, 0, 1, 2, 2, 2, 0], dtype=int32)"
      ]
     },
     "execution_count": 9,
     "metadata": {},
     "output_type": "execute_result"
    }
   ],
   "source": [
    "n_clusters = 3\n",
    "clusterer = KMeans(n_clusters=n_clusters, random_state=10)\n",
    "cluster_labels = clusterer.fit_predict(X_pca)\n",
    "cluster_labels"
   ]
  },
  {
   "cell_type": "code",
   "execution_count": 10,
   "metadata": {},
   "outputs": [
    {
     "name": "stdout",
     "output_type": "stream",
     "text": [
      "降一半的準確率 0.9217877094972067\n"
     ]
    }
   ],
   "source": [
    "print('降一半的準確率',accuracy_score(y, cluster_labels))"
   ]
  },
  {
   "cell_type": "code",
   "execution_count": 11,
   "metadata": {},
   "outputs": [
    {
     "data": {
      "text/plain": [
       "16"
      ]
     },
     "execution_count": 11,
     "metadata": {},
     "output_type": "execute_result"
    }
   ],
   "source": [
    "#嘗試再降到一半\n",
    "pca = decomposition.PCA(n_components=int(X.shape[1] / 4) )\n",
    "pca.fit(X)\n",
    "X_pca = pca.transform(X)\n",
    "\n",
    "len(X_pca[1])"
   ]
  },
  {
   "cell_type": "code",
   "execution_count": 12,
   "metadata": {},
   "outputs": [
    {
     "data": {
      "text/plain": [
       "array([2, 1, 1, 2, 1, 0, 2, 1, 0, 2, 2, 1, 1, 2, 2, 1, 1, 1, 2, 1, 1, 1,\n",
       "       2, 1, 1, 2, 2, 1, 0, 1, 1, 1, 1, 2, 1, 0, 1, 0, 2, 2, 1, 0, 2, 1,\n",
       "       0, 2, 1, 0, 2, 2, 1, 1, 2, 2, 0, 0, 0, 2, 1, 0, 1, 2, 0, 0, 2, 2,\n",
       "       1, 0, 1, 1, 1, 1, 2, 1, 0, 0, 0, 2, 2, 1, 0, 2, 1, 0, 2, 1, 0, 2,\n",
       "       2, 1, 1, 2, 2, 0, 0, 0, 2, 1, 0, 1, 2, 0, 0, 2, 2, 1, 0, 1, 1, 1,\n",
       "       1, 2, 1, 0, 0, 0, 2, 2, 1, 0, 2, 1, 0, 2, 1, 0, 2, 2, 1, 1, 2, 2,\n",
       "       0, 0, 0, 2, 0, 0, 1, 2, 0, 0, 2, 2, 1, 0, 1, 1, 1, 1, 2, 1, 0, 0,\n",
       "       1, 2, 2, 0, 0, 2, 0, 0, 2, 0, 0, 2, 2, 0, 0, 2, 2, 0, 0, 0, 2, 0,\n",
       "       0, 0, 2, 0, 0, 2, 2, 0, 0, 0, 0, 0, 1, 2, 1, 0, 0, 0, 2, 2, 1, 0,\n",
       "       2, 1, 0, 2, 1, 0, 2, 2, 1, 1, 2, 2, 0, 0, 0, 2, 1, 0, 1, 2, 0, 0,\n",
       "       2, 2, 1, 0, 1, 1, 1, 1, 2, 1, 0, 0, 0, 2, 2, 1, 0, 2, 1, 0, 2, 1,\n",
       "       0, 2, 2, 1, 1, 2, 2, 0, 0, 0, 2, 0, 0, 1, 2, 0, 0, 2, 2, 0, 0, 1,\n",
       "       1, 1, 1, 2, 1, 0, 1, 0, 2, 0, 0, 2, 0, 0, 2, 0, 0, 2, 2, 0, 0, 0,\n",
       "       0, 2, 0, 0, 0, 2, 0, 0, 2, 2, 0, 0, 0, 0, 0, 0, 2, 0, 0, 0, 0, 2,\n",
       "       2, 1, 0, 2, 1, 0, 2, 1, 0, 2, 2, 1, 1, 2, 2, 0, 2, 1, 0, 1, 2, 0,\n",
       "       0, 2, 2, 1, 0, 1, 1, 1, 1, 2, 1, 0, 0, 0, 2, 2, 1, 0, 2, 1, 0, 2,\n",
       "       1, 0, 2, 2, 1, 1, 2, 2, 0, 0, 0, 2, 1, 0, 1, 2, 0, 0, 2, 2, 1, 0,\n",
       "       1, 1, 1, 1, 2, 1, 0, 0, 0, 2, 2, 1, 0, 2, 1, 0, 2, 1, 0, 2, 2, 1,\n",
       "       1, 2, 2, 0, 2, 0, 2, 1, 0, 1, 2, 0, 2, 2, 2, 1, 0, 1, 1, 1, 1, 2,\n",
       "       1, 0, 0, 0, 2, 2, 1, 0, 2, 1, 0, 2, 1, 0, 2, 2, 1, 1, 2, 2, 0, 0,\n",
       "       0, 2, 1, 0, 1, 2, 0, 0, 2, 2, 2, 0, 1, 1, 1, 2, 2, 1, 0, 0, 0, 2,\n",
       "       2, 1, 0, 2, 1, 0, 2, 1, 0, 2, 2, 1, 1, 2, 2, 2, 0, 0, 2, 1, 0, 1,\n",
       "       2, 0, 2, 1, 0, 1, 1, 1, 1, 2, 1, 0, 0, 2, 2, 1, 0, 2, 1, 0, 2, 1,\n",
       "       0, 2, 2, 1, 1, 2, 2, 0, 0, 0, 2, 1, 0, 1, 2, 0, 0, 2, 2, 1, 0, 1,\n",
       "       1, 1, 1, 2, 1, 0, 0, 0, 2], dtype=int32)"
      ]
     },
     "execution_count": 12,
     "metadata": {},
     "output_type": "execute_result"
    }
   ],
   "source": [
    "n_clusters = 3\n",
    "clusterer = KMeans(n_clusters=n_clusters, random_state=10)\n",
    "cluster_labels = clusterer.fit_predict(X_pca)\n",
    "cluster_labels"
   ]
  },
  {
   "cell_type": "code",
   "execution_count": 13,
   "metadata": {},
   "outputs": [
    {
     "name": "stdout",
     "output_type": "stream",
     "text": [
      "降四分之一的準確率 0.2905027932960894\n"
     ]
    }
   ],
   "source": [
    "print('降四分之一的準確率',accuracy_score(y, cluster_labels))"
   ]
  },
  {
   "cell_type": "code",
   "execution_count": null,
   "metadata": {},
   "outputs": [],
   "source": []
  }
 ],
 "metadata": {
  "kernelspec": {
   "display_name": "Python 3",
   "language": "python",
   "name": "python3"
  },
  "language_info": {
   "codemirror_mode": {
    "name": "ipython",
    "version": 3
   },
   "file_extension": ".py",
   "mimetype": "text/x-python",
   "name": "python",
   "nbconvert_exporter": "python",
   "pygments_lexer": "ipython3",
   "version": "3.7.2"
  }
 },
 "nbformat": 4,
 "nbformat_minor": 2
}
